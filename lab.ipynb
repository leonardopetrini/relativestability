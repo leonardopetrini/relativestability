{
 "cells": [
  {
   "cell_type": "code",
   "execution_count": 139,
   "id": "3e7c5f8c",
   "metadata": {},
   "outputs": [
    {
     "name": "stdout",
     "output_type": "stream",
     "text": [
      "The autoreload extension is already loaded. To reload it, use:\n",
      "  %reload_ext autoreload\n"
     ]
    },
    {
     "ename": "ModuleNotFoundError",
     "evalue": "No module named 'matplotlib'",
     "output_type": "error",
     "traceback": [
      "\u001b[0;31m---------------------------------------------------------------------------\u001b[0m",
      "\u001b[0;31mModuleNotFoundError\u001b[0m                       Traceback (most recent call last)",
      "Input \u001b[0;32mIn [139]\u001b[0m, in \u001b[0;36m<cell line: 15>\u001b[0;34m()\u001b[0m\n\u001b[1;32m     13\u001b[0m \u001b[38;5;28;01mimport\u001b[39;00m \u001b[38;5;21;01mpandas\u001b[39;00m \u001b[38;5;28;01mas\u001b[39;00m \u001b[38;5;21;01mpd\u001b[39;00m\n\u001b[1;32m     14\u001b[0m \u001b[38;5;28;01mimport\u001b[39;00m \u001b[38;5;21;01mnumpy\u001b[39;00m \u001b[38;5;28;01mas\u001b[39;00m \u001b[38;5;21;01mnp\u001b[39;00m\n\u001b[0;32m---> 15\u001b[0m \u001b[38;5;28;01mimport\u001b[39;00m \u001b[38;5;21;01mmatplotlib\u001b[39;00m\u001b[38;5;21;01m.\u001b[39;00m\u001b[38;5;21;01mpyplot\u001b[39;00m \u001b[38;5;28;01mas\u001b[39;00m \u001b[38;5;21;01mplt\u001b[39;00m\n",
      "\u001b[0;31mModuleNotFoundError\u001b[0m: No module named 'matplotlib'"
     ]
    }
   ],
   "source": [
    "%load_ext autoreload\n",
    "%autoreload 2\n",
    "\n",
    "from grid import load\n",
    "from functools import partial \n",
    "\n",
    "from stability import *\n",
    "from data import *\n",
    "from laplacian import *\n",
    "from perturbations import *\n",
    "from utils import *\n",
    "\n",
    "import pandas as pd\n",
    "import numpy as np\n",
    "import matplotlib.pyplot as plt"
   ]
  },
  {
   "cell_type": "code",
   "execution_count": 131,
   "id": "a935ca44",
   "metadata": {},
   "outputs": [],
   "source": [
    "prefix = '/home/lpetrini/results/'\n",
    "filename = 'twopoints22'"
   ]
  },
  {
   "cell_type": "code",
   "execution_count": 132,
   "id": "c84aa7af",
   "metadata": {},
   "outputs": [],
   "source": [
    "runs = load(prefix + filename + '_stab')"
   ]
  },
  {
   "cell_type": "code",
   "execution_count": 133,
   "id": "fe152792",
   "metadata": {},
   "outputs": [],
   "source": [
    "df = pd.DataFrame()\n",
    "\n",
    "for r in runs:\n",
    "    df = pd.concat([df,\n",
    "        r['df']\n",
    "    ], )"
   ]
  },
  {
   "cell_type": "code",
   "execution_count": 134,
   "id": "afe3fb35",
   "metadata": {},
   "outputs": [],
   "source": [
    "df = df[(df.net == 'VGG11bn') | (df.net == 'VGG11bn') | (df.net == 'VGG16bn')]"
   ]
  },
  {
   "cell_type": "code",
   "execution_count": 135,
   "id": "f87294f0",
   "metadata": {},
   "outputs": [],
   "source": [
    "df['ptr'] = df.run_args.apply(lambda a: a.ptr)\n",
    "\n",
    "df['sch'] = df.args.apply(lambda a: a.shuffle_channels)"
   ]
  },
  {
   "cell_type": "code",
   "execution_count": 136,
   "id": "af24a335",
   "metadata": {},
   "outputs": [],
   "source": [
    "df['R'] = df['D'] / df['G']\n",
    "groups = ['ptr', 'sch', 'net', 'trained', 'layer']\n",
    "\n",
    "R = df.groupby(groups)['R'].apply(np.mean)\n",
    "D = df.groupby(groups)['D'].apply(np.mean)\n",
    "G = df.groupby(groups)['G'].apply(np.mean)"
   ]
  },
  {
   "cell_type": "code",
   "execution_count": 138,
   "id": "bdba6bf7",
   "metadata": {},
   "outputs": [
    {
     "ename": "ModuleNotFoundError",
     "evalue": "No module named 'matplotlib'",
     "output_type": "error",
     "traceback": [
      "\u001b[0;31m---------------------------------------------------------------------------\u001b[0m",
      "\u001b[0;31mModuleNotFoundError\u001b[0m                       Traceback (most recent call last)",
      "Input \u001b[0;32mIn [138]\u001b[0m, in \u001b[0;36m<cell line: 1>\u001b[0;34m()\u001b[0m\n\u001b[0;32m----> 1\u001b[0m \u001b[43mget_ipython\u001b[49m\u001b[43m(\u001b[49m\u001b[43m)\u001b[49m\u001b[38;5;241;43m.\u001b[39;49m\u001b[43mrun_line_magic\u001b[49m\u001b[43m(\u001b[49m\u001b[38;5;124;43m'\u001b[39;49m\u001b[38;5;124;43mmatplotlib\u001b[39;49m\u001b[38;5;124;43m'\u001b[39;49m\u001b[43m,\u001b[49m\u001b[43m \u001b[49m\u001b[38;5;124;43m'\u001b[39;49m\u001b[38;5;124;43mnotebook\u001b[39;49m\u001b[38;5;124;43m'\u001b[39;49m\u001b[43m)\u001b[49m\n\u001b[1;32m      2\u001b[0m gs \u001b[38;5;241m=\u001b[39m gridspec_kw\u001b[38;5;241m=\u001b[39m{\u001b[38;5;124m'\u001b[39m\u001b[38;5;124mheight_ratios\u001b[39m\u001b[38;5;124m'\u001b[39m: [\u001b[38;5;241m2.3\u001b[39m, \u001b[38;5;241m1\u001b[39m]}\n\u001b[1;32m      3\u001b[0m fig, ax \u001b[38;5;241m=\u001b[39m plt\u001b[38;5;241m.\u001b[39msubplots(\u001b[38;5;241m1\u001b[39m, \u001b[38;5;241m1\u001b[39m, figsize\u001b[38;5;241m=\u001b[39m(\u001b[38;5;241m5.5\u001b[39m, \u001b[38;5;241m2.1\u001b[39m), dpi\u001b[38;5;241m=\u001b[39m\u001b[38;5;241m150\u001b[39m, sharex\u001b[38;5;241m=\u001b[39m\u001b[38;5;28;01mTrue\u001b[39;00m)\n",
      "File \u001b[0;32m~/anaconda3/envs/e2/lib/python3.10/site-packages/IPython/core/interactiveshell.py:2305\u001b[0m, in \u001b[0;36mInteractiveShell.run_line_magic\u001b[0;34m(self, magic_name, line, _stack_depth)\u001b[0m\n\u001b[1;32m   2303\u001b[0m     kwargs[\u001b[38;5;124m'\u001b[39m\u001b[38;5;124mlocal_ns\u001b[39m\u001b[38;5;124m'\u001b[39m] \u001b[38;5;241m=\u001b[39m \u001b[38;5;28mself\u001b[39m\u001b[38;5;241m.\u001b[39mget_local_scope(stack_depth)\n\u001b[1;32m   2304\u001b[0m \u001b[38;5;28;01mwith\u001b[39;00m \u001b[38;5;28mself\u001b[39m\u001b[38;5;241m.\u001b[39mbuiltin_trap:\n\u001b[0;32m-> 2305\u001b[0m     result \u001b[38;5;241m=\u001b[39m \u001b[43mfn\u001b[49m\u001b[43m(\u001b[49m\u001b[38;5;241;43m*\u001b[39;49m\u001b[43margs\u001b[49m\u001b[43m,\u001b[49m\u001b[43m \u001b[49m\u001b[38;5;241;43m*\u001b[39;49m\u001b[38;5;241;43m*\u001b[39;49m\u001b[43mkwargs\u001b[49m\u001b[43m)\u001b[49m\n\u001b[1;32m   2306\u001b[0m \u001b[38;5;28;01mreturn\u001b[39;00m result\n",
      "File \u001b[0;32m~/anaconda3/envs/e2/lib/python3.10/site-packages/IPython/core/magics/pylab.py:99\u001b[0m, in \u001b[0;36mPylabMagics.matplotlib\u001b[0;34m(self, line)\u001b[0m\n\u001b[1;32m     97\u001b[0m     \u001b[38;5;28mprint\u001b[39m(\u001b[38;5;124m\"\u001b[39m\u001b[38;5;124mAvailable matplotlib backends: \u001b[39m\u001b[38;5;132;01m%s\u001b[39;00m\u001b[38;5;124m\"\u001b[39m \u001b[38;5;241m%\u001b[39m backends_list)\n\u001b[1;32m     98\u001b[0m \u001b[38;5;28;01melse\u001b[39;00m:\n\u001b[0;32m---> 99\u001b[0m     gui, backend \u001b[38;5;241m=\u001b[39m \u001b[38;5;28;43mself\u001b[39;49m\u001b[38;5;241;43m.\u001b[39;49m\u001b[43mshell\u001b[49m\u001b[38;5;241;43m.\u001b[39;49m\u001b[43menable_matplotlib\u001b[49m\u001b[43m(\u001b[49m\u001b[43margs\u001b[49m\u001b[38;5;241;43m.\u001b[39;49m\u001b[43mgui\u001b[49m\u001b[38;5;241;43m.\u001b[39;49m\u001b[43mlower\u001b[49m\u001b[43m(\u001b[49m\u001b[43m)\u001b[49m\u001b[43m \u001b[49m\u001b[38;5;28;43;01mif\u001b[39;49;00m\u001b[43m \u001b[49m\u001b[38;5;28;43misinstance\u001b[39;49m\u001b[43m(\u001b[49m\u001b[43margs\u001b[49m\u001b[38;5;241;43m.\u001b[39;49m\u001b[43mgui\u001b[49m\u001b[43m,\u001b[49m\u001b[43m \u001b[49m\u001b[38;5;28;43mstr\u001b[39;49m\u001b[43m)\u001b[49m\u001b[43m \u001b[49m\u001b[38;5;28;43;01melse\u001b[39;49;00m\u001b[43m \u001b[49m\u001b[43margs\u001b[49m\u001b[38;5;241;43m.\u001b[39;49m\u001b[43mgui\u001b[49m\u001b[43m)\u001b[49m\n\u001b[1;32m    100\u001b[0m     \u001b[38;5;28mself\u001b[39m\u001b[38;5;241m.\u001b[39m_show_matplotlib_backend(args\u001b[38;5;241m.\u001b[39mgui, backend)\n",
      "File \u001b[0;32m~/anaconda3/envs/e2/lib/python3.10/site-packages/IPython/core/interactiveshell.py:3478\u001b[0m, in \u001b[0;36mInteractiveShell.enable_matplotlib\u001b[0;34m(self, gui)\u001b[0m\n\u001b[1;32m   3457\u001b[0m \u001b[38;5;28;01mdef\u001b[39;00m \u001b[38;5;21menable_matplotlib\u001b[39m(\u001b[38;5;28mself\u001b[39m, gui\u001b[38;5;241m=\u001b[39m\u001b[38;5;28;01mNone\u001b[39;00m):\n\u001b[1;32m   3458\u001b[0m     \u001b[38;5;124;03m\"\"\"Enable interactive matplotlib and inline figure support.\u001b[39;00m\n\u001b[1;32m   3459\u001b[0m \n\u001b[1;32m   3460\u001b[0m \u001b[38;5;124;03m    This takes the following steps:\u001b[39;00m\n\u001b[0;32m   (...)\u001b[0m\n\u001b[1;32m   3476\u001b[0m \u001b[38;5;124;03m        display figures inline.\u001b[39;00m\n\u001b[1;32m   3477\u001b[0m \u001b[38;5;124;03m    \"\"\"\u001b[39;00m\n\u001b[0;32m-> 3478\u001b[0m     \u001b[38;5;28;01mfrom\u001b[39;00m \u001b[38;5;21;01mmatplotlib_inline\u001b[39;00m\u001b[38;5;21;01m.\u001b[39;00m\u001b[38;5;21;01mbackend_inline\u001b[39;00m \u001b[38;5;28;01mimport\u001b[39;00m configure_inline_support\n\u001b[1;32m   3480\u001b[0m     \u001b[38;5;28;01mfrom\u001b[39;00m \u001b[38;5;21;01mIPython\u001b[39;00m\u001b[38;5;21;01m.\u001b[39;00m\u001b[38;5;21;01mcore\u001b[39;00m \u001b[38;5;28;01mimport\u001b[39;00m pylabtools \u001b[38;5;28;01mas\u001b[39;00m pt\n\u001b[1;32m   3481\u001b[0m     gui, backend \u001b[38;5;241m=\u001b[39m pt\u001b[38;5;241m.\u001b[39mfind_gui_and_backend(gui, \u001b[38;5;28mself\u001b[39m\u001b[38;5;241m.\u001b[39mpylab_gui_select)\n",
      "File \u001b[0;32m~/anaconda3/envs/e2/lib/python3.10/site-packages/matplotlib_inline/backend_inline.py:6\u001b[0m, in \u001b[0;36m<module>\u001b[0;34m\u001b[0m\n\u001b[1;32m      1\u001b[0m \u001b[38;5;124;03m\"\"\"A matplotlib backend for publishing figures via display_data\"\"\"\u001b[39;00m\n\u001b[1;32m      3\u001b[0m \u001b[38;5;66;03m# Copyright (c) IPython Development Team.\u001b[39;00m\n\u001b[1;32m      4\u001b[0m \u001b[38;5;66;03m# Distributed under the terms of the BSD 3-Clause License.\u001b[39;00m\n\u001b[0;32m----> 6\u001b[0m \u001b[38;5;28;01mimport\u001b[39;00m \u001b[38;5;21;01mmatplotlib\u001b[39;00m\n\u001b[1;32m      7\u001b[0m \u001b[38;5;28;01mfrom\u001b[39;00m \u001b[38;5;21;01mmatplotlib\u001b[39;00m\u001b[38;5;21;01m.\u001b[39;00m\u001b[38;5;21;01mbackends\u001b[39;00m\u001b[38;5;21;01m.\u001b[39;00m\u001b[38;5;21;01mbackend_agg\u001b[39;00m \u001b[38;5;28;01mimport\u001b[39;00m (  \u001b[38;5;66;03m# noqa\u001b[39;00m\n\u001b[1;32m      8\u001b[0m     new_figure_manager,\n\u001b[1;32m      9\u001b[0m     FigureCanvasAgg,\n\u001b[1;32m     10\u001b[0m     new_figure_manager_given_figure,\n\u001b[1;32m     11\u001b[0m )\n\u001b[1;32m     12\u001b[0m \u001b[38;5;28;01mfrom\u001b[39;00m \u001b[38;5;21;01mmatplotlib\u001b[39;00m \u001b[38;5;28;01mimport\u001b[39;00m colors\n",
      "\u001b[0;31mModuleNotFoundError\u001b[0m: No module named 'matplotlib'"
     ]
    }
   ],
   "source": [
    "%matplotlib notebook\n",
    "gs = gridspec_kw={'height_ratios': [2.3, 1]}\n",
    "fig, ax = plt.subplots(1, 1, figsize=(5.5, 2.1), dpi=150, sharex=True)\n",
    "\n",
    "tr = 1\n",
    "nets = df.net.unique()\n",
    "nets.sort()\n",
    "\n",
    "for i, net in enumerate(ng):\n",
    "    for sch in [0, 1]:\n",
    "        r = R[ptr][sch][net][tr].values # / R[net][0].values\n",
    "        plt.plot(np.linspace(0, 1, len(r)), r, c=f'C{i}', ls='--' if sch else '-', label=net if not sch else None)\n",
    "\n",
    "plt.ylabel('$R_f$', fontsize=10)\n",
    "plt.yscale('log')\n",
    "\n",
    "plt.plot([], [], 'k', label='original')\n",
    "plt.plot([], [], '--k', label='shuffle ch.')\n",
    "#     plt.plot([], [], 'k', ls='dotted', label='ratio')\n",
    "plt.legend(fontsize=8, ncol=2)\n",
    "plt.xlim(0, 1)\n",
    "plt.xlabel('relative depth', fontsize=9)\n",
    "plt.annotate(f'TwoPixelsDataset', xy=(0.6, 0.85), xycoords='axes fraction', horizontalalignment='left', fontsize=15)"
   ]
  },
  {
   "cell_type": "code",
   "execution_count": null,
   "id": "23d17f33",
   "metadata": {},
   "outputs": [],
   "source": [
    "%matplotlib notebook\n",
    "fig, ax = plt.subplots(1, 1, figsize=(9, 4), dpi=150)\n",
    "\n",
    "ng = ['VGG11', 'VGG11bn', 'VGG16bn']\n",
    "ptr, sch = 1024, 2, 'L2', 14, 1\n",
    "\n",
    "ni = -1\n",
    "for net in ng:\n",
    "#     if 'bn' not in net: continue\n",
    "    ni += 1\n",
    "    print(i)\n",
    "    for tr in [1]:\n",
    "        r = R[ptr][sch][gap][norm][net][tr].values\n",
    "        if 'aVGG' in net:\n",
    "            idxs = np.asarray([ll in ['M', 'Relu', 'A'] for ll in layer_names[net]])\n",
    "        else:\n",
    "            idxs = np.asarray([True for _ in r])\n",
    "        plt.plot(np.linspace(0, 1, sum(idxs)), r[idxs], c=f'C{ni}', ls='--' if not tr else '-', marker='.', label=net if tr else None)\n",
    "        for i, v in enumerate(zip(np.linspace(0, 1, sum(idxs[:-1])), r[idxs][:-1])):\n",
    "            plt.text(*v, layer_names[net][i], fontsize=5)\n",
    "\n",
    "plt.xlabel('relative depth', fontsize=11)\n",
    "plt.ylabel('$R_f$', fontsize=15)\n",
    "\n",
    "plt.plot([], [], '--k', label='init.')\n",
    "plt.plot([], [], 'k', label='trained')\n",
    "plt.legend(fontsize=8)\n",
    "\n",
    "# plt.yscale('log')\n",
    "\n",
    "plt.xlim(0, 1)\n",
    "plt.xticks(np.linspace(0, 1, 5), np.linspace(0, 1, 5)) #[r'$0$', r'$\\frac{1}{4}$', r'$\\frac{1}{2}$', r'$\\frac{3}{4}$', r'1']\n",
    "plt.title(fr'TwoPointsDataset | shuffle channels | $P = {ptr:.00f}, d = 28, \\xi = {int(xi)}$, dist={norm}, gap={gap}')\n",
    "# plt.title(fr'TwoPointsDataset | $P = {ptr:.00f}, d = 28, \\xi = {int(xi)}$, dist={norm}, gap={gap}')\n",
    "plt.yscale('log')\n",
    "plt.tight_layout()\n",
    "\n",
    "# plt.savefig('./figures/R_f_depth.pdf', format='pdf')"
   ]
  }
 ],
 "metadata": {
  "kernelspec": {
   "display_name": "e2",
   "language": "python",
   "name": "e2"
  },
  "language_info": {
   "codemirror_mode": {
    "name": "ipython",
    "version": 3
   },
   "file_extension": ".py",
   "mimetype": "text/x-python",
   "name": "python",
   "nbconvert_exporter": "python",
   "pygments_lexer": "ipython3",
   "version": "3.10.4"
  }
 },
 "nbformat": 4,
 "nbformat_minor": 5
}
